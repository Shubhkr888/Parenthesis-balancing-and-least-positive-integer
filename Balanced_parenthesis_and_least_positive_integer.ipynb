{
  "nbformat": 4,
  "nbformat_minor": 0,
  "metadata": {
    "colab": {
      "provenance": []
    },
    "kernelspec": {
      "name": "python3",
      "display_name": "Python 3"
    },
    "language_info": {
      "name": "python"
    }
  },
  "cells": [
    {
      "cell_type": "code",
      "execution_count": 1,
      "metadata": {
        "id": "30OKm6YebVeY"
      },
      "outputs": [],
      "source": [
        "#least positive interger missing from a list of input integers\n",
        "#least positive number is always 1"
      ]
    },
    {
      "cell_type": "code",
      "source": [
        "input = [500,-100,356,734,833,0,223,545,-6333]\n",
        "#input = [1,-1,3,7,8,0,2,5,-6]\n",
        "length = len(input)\n",
        "compare_input = [i for i in range(1,length+1)]\n",
        "for i in input:\n",
        "    for j in compare_input:\n",
        "        if i==j:\n",
        "            compare_input.remove(j)\n",
        "print(compare_input[0])"
      ],
      "metadata": {
        "colab": {
          "base_uri": "https://localhost:8080/"
        },
        "id": "E60ZplFIbYHL",
        "outputId": "c4863457-9df3-4e5b-f38d-1e96a9be6c3a"
      },
      "execution_count": 2,
      "outputs": [
        {
          "output_type": "stream",
          "name": "stdout",
          "text": [
            "1\n"
          ]
        }
      ]
    },
    {
      "cell_type": "code",
      "source": [
        "my_string = \"My name is Shubham\"\n",
        "\n",
        "my_string = my_string.split(\" \")\n",
        "new_string = []\n",
        "for i in my_string:\n",
        "    new_string.append(i[::-1])\n",
        "print(new_string)\n"
      ],
      "metadata": {
        "colab": {
          "base_uri": "https://localhost:8080/"
        },
        "id": "LYgzBVDIbhGq",
        "outputId": "5b2a22cc-76af-43c0-e1aa-b15c3a1df164"
      },
      "execution_count": 3,
      "outputs": [
        {
          "output_type": "stream",
          "name": "stdout",
          "text": [
            "['yM', 'eman', 'si', 'mahbuhS']\n"
          ]
        }
      ]
    },
    {
      "cell_type": "code",
      "source": [
        "def is_balance(exp):\n",
        "    brackets = {'(' : ')' , '[' : ']' , '{' : '}'}\n",
        "    stack = []\n",
        "    for paren in exp:\n",
        "        if paren in brackets:\n",
        "            stack.append(paren)\n",
        "        elif paren in brackets.values():\n",
        "            if (not stack) or (paren !=brackets[stack.pop()]):\n",
        "                return False\n",
        "    return not stack"
      ],
      "metadata": {
        "id": "guU2EOw3bjN_"
      },
      "execution_count": 4,
      "outputs": []
    },
    {
      "cell_type": "code",
      "source": [
        "is_balance(\"()\")"
      ],
      "metadata": {
        "colab": {
          "base_uri": "https://localhost:8080/"
        },
        "id": "HRMkDlNsbmhQ",
        "outputId": "0d091b9c-4323-4e95-b438-51b517b7fa2d"
      },
      "execution_count": 5,
      "outputs": [
        {
          "output_type": "execute_result",
          "data": {
            "text/plain": [
              "True"
            ]
          },
          "metadata": {},
          "execution_count": 5
        }
      ]
    }
  ]
}